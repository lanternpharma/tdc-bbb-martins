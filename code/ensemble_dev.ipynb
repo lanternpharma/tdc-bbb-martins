{
 "cells": [
  {
   "cell_type": "code",
   "execution_count": 1,
   "metadata": {},
   "outputs": [
    {
     "name": "stdout",
     "output_type": "stream",
     "text": [
      "Current date and time :  2023-03-22_13:21:29\n"
     ]
    }
   ],
   "source": [
    "import numpy as np\n",
    "import pandas as pd\n",
    "from tdc.single_pred import ADME\n",
    "import random\n",
    "from tdc.benchmark_group import admet_group\n",
    "\n",
    "from imblearn.over_sampling import SVMSMOTE\n",
    "\n",
    "from sklearn.preprocessing import MaxAbsScaler, StandardScaler, MinMaxScaler\n",
    "from sklearn.model_selection import StratifiedKFold, cross_val_score, StratifiedShuffleSplit, RandomizedSearchCV, RepeatedKFold\n",
    "from sklearn.metrics import ConfusionMatrixDisplay, auc, precision_recall_curve, roc_curve, accuracy_score, f1_score, precision_score, recall_score, roc_auc_score, log_loss, confusion_matrix\n",
    "from sklearn.utils import shuffle\n",
    "from sklearn.linear_model import LogisticRegression\n",
    "from sklearn.ensemble import RandomForestClassifier\n",
    "from sklearn.model_selection import GridSearchCV\n",
    "\n",
    "import seaborn as sns\n",
    "import matplotlib.pyplot as plt\n",
    "%matplotlib inline\n",
    "\n",
    "\n",
    "import datetime\n",
    "now = datetime.datetime.now()\n",
    "time_stamp = now.strftime(\"%Y-%m-%d_%H:%M:%S\")\n",
    "print (\"Current date and time : \", time_stamp)\n",
    "\n",
    "global_seed = 8516"
   ]
  },
  {
   "cell_type": "code",
   "execution_count": 2,
   "metadata": {},
   "outputs": [
    {
     "name": "stdout",
     "output_type": "stream",
     "text": [
      "(203, 4)\n"
     ]
    },
    {
     "data": {
      "text/html": [
       "<div>\n",
       "<style scoped>\n",
       "    .dataframe tbody tr th:only-of-type {\n",
       "        vertical-align: middle;\n",
       "    }\n",
       "\n",
       "    .dataframe tbody tr th {\n",
       "        vertical-align: top;\n",
       "    }\n",
       "\n",
       "    .dataframe thead th {\n",
       "        text-align: right;\n",
       "    }\n",
       "</style>\n",
       "<table border=\"1\" class=\"dataframe\">\n",
       "  <thead>\n",
       "    <tr style=\"text-align: right;\">\n",
       "      <th></th>\n",
       "      <th>Drug_ID</th>\n",
       "      <th>Actual_value</th>\n",
       "      <th>Predicted_prob</th>\n",
       "      <th>Predicted_class</th>\n",
       "    </tr>\n",
       "  </thead>\n",
       "  <tbody>\n",
       "    <tr>\n",
       "      <th>0</th>\n",
       "      <td>lamotrigine</td>\n",
       "      <td>1</td>\n",
       "      <td>0.938323</td>\n",
       "      <td>1</td>\n",
       "    </tr>\n",
       "    <tr>\n",
       "      <th>1</th>\n",
       "      <td>9-C15</td>\n",
       "      <td>1</td>\n",
       "      <td>0.998611</td>\n",
       "      <td>1</td>\n",
       "    </tr>\n",
       "    <tr>\n",
       "      <th>2</th>\n",
       "      <td>erizepine</td>\n",
       "      <td>1</td>\n",
       "      <td>0.999255</td>\n",
       "      <td>1</td>\n",
       "    </tr>\n",
       "    <tr>\n",
       "      <th>3</th>\n",
       "      <td>amperozide</td>\n",
       "      <td>1</td>\n",
       "      <td>0.999732</td>\n",
       "      <td>1</td>\n",
       "    </tr>\n",
       "    <tr>\n",
       "      <th>4</th>\n",
       "      <td>Thioperamide</td>\n",
       "      <td>1</td>\n",
       "      <td>0.940841</td>\n",
       "      <td>1</td>\n",
       "    </tr>\n",
       "  </tbody>\n",
       "</table>\n",
       "</div>"
      ],
      "text/plain": [
       "        Drug_ID  Actual_value  Predicted_prob  Predicted_class\n",
       "0   lamotrigine             1        0.938323                1\n",
       "1         9-C15             1        0.998611                1\n",
       "2     erizepine             1        0.999255                1\n",
       "3    amperozide             1        0.999732                1\n",
       "4  Thioperamide             1        0.940841                1"
      ]
     },
     "execution_count": 2,
     "metadata": {},
     "output_type": "execute_result"
    }
   ],
   "source": [
    "#Load seed1 validation set predictions\n",
    "logistic_val_pred_seed1 = pd.read_csv(\"/data/tdc_bbb_prelim_results1/logistic_fe_aug/val_predictions/val_predictions_seed1.tsv\", sep=\"\\t\")\n",
    "print(logistic_val_pred_seed1.shape)\n",
    "logistic_val_pred_seed1.head()"
   ]
  },
  {
   "cell_type": "code",
   "execution_count": 3,
   "metadata": {},
   "outputs": [
    {
     "data": {
      "image/png": "[encoded data removed]",
      "text/plain": [
       "<Figure size 640x480 with 1 Axes>"
      ]
     },
     "metadata": {},
     "output_type": "display_data"
    }
   ],
   "source": [
    "sns.histplot(logistic_val_pred_seed1.Predicted_prob)\n",
    "plt.show()"
   ]
  },
  {
   "cell_type": "code",
   "execution_count": 4,
   "metadata": {},
   "outputs": [
    {
     "name": "stdout",
     "output_type": "stream",
     "text": [
      "(203, 4)\n"
     ]
    },
    {
     "data": {
      "text/html": [
       "<div>\n",
       "<style scoped>\n",
       "    .dataframe tbody tr th:only-of-type {\n",
       "        vertical-align: middle;\n",
       "    }\n",
       "\n",
       "    .dataframe tbody tr th {\n",
       "        vertical-align: top;\n",
       "    }\n",
       "\n",
       "    .dataframe thead th {\n",
       "        text-align: right;\n",
       "    }\n",
       "</style>\n",
       "<table border=\"1\" class=\"dataframe\">\n",
       "  <thead>\n",
       "    <tr style=\"text-align: right;\">\n",
       "      <th></th>\n",
       "      <th>Drug_ID</th>\n",
       "      <th>Actual_value</th>\n",
       "      <th>Predicted_prob</th>\n",
       "      <th>Predicted_class</th>\n",
       "    </tr>\n",
       "  </thead>\n",
       "  <tbody>\n",
       "    <tr>\n",
       "      <th>0</th>\n",
       "      <td>lamotrigine</td>\n",
       "      <td>1</td>\n",
       "      <td>0.627750</td>\n",
       "      <td>1</td>\n",
       "    </tr>\n",
       "    <tr>\n",
       "      <th>1</th>\n",
       "      <td>9-C15</td>\n",
       "      <td>1</td>\n",
       "      <td>0.787351</td>\n",
       "      <td>1</td>\n",
       "    </tr>\n",
       "    <tr>\n",
       "      <th>2</th>\n",
       "      <td>erizepine</td>\n",
       "      <td>1</td>\n",
       "      <td>0.922308</td>\n",
       "      <td>1</td>\n",
       "    </tr>\n",
       "    <tr>\n",
       "      <th>3</th>\n",
       "      <td>amperozide</td>\n",
       "      <td>1</td>\n",
       "      <td>0.804113</td>\n",
       "      <td>1</td>\n",
       "    </tr>\n",
       "    <tr>\n",
       "      <th>4</th>\n",
       "      <td>Thioperamide</td>\n",
       "      <td>1</td>\n",
       "      <td>0.825243</td>\n",
       "      <td>1</td>\n",
       "    </tr>\n",
       "  </tbody>\n",
       "</table>\n",
       "</div>"
      ],
      "text/plain": [
       "        Drug_ID  Actual_value  Predicted_prob  Predicted_class\n",
       "0   lamotrigine             1        0.627750                1\n",
       "1         9-C15             1        0.787351                1\n",
       "2     erizepine             1        0.922308                1\n",
       "3    amperozide             1        0.804113                1\n",
       "4  Thioperamide             1        0.825243                1"
      ]
     },
     "execution_count": 4,
     "metadata": {},
     "output_type": "execute_result"
    }
   ],
   "source": [
    "#Load seed1 validation set predictions\n",
    "rf_val_pred_seed1 = pd.read_csv(\"/data/tdc_bbb_prelim_results1/rf_fe_aug/val_predictions/val_predictions_seed1.tsv\", sep=\"\\t\")\n",
    "print(rf_val_pred_seed1.shape)\n",
    "rf_val_pred_seed1.head()"
   ]
  },
  {
   "cell_type": "code",
   "execution_count": 5,
   "metadata": {},
   "outputs": [],
   "source": [
    "dnn_val_pred_seed1 = pd.read_csv(\"/data/tdc_bbb_prelim_results11/dnn_fe_aug/val_predictions/val_predictions_seed1.tsv\", sep=\"\\t\")\n"
   ]
  },
  {
   "cell_type": "code",
   "execution_count": 6,
   "metadata": {},
   "outputs": [
    {
     "data": {
      "text/html": [
       "<div>\n",
       "<style scoped>\n",
       "    .dataframe tbody tr th:only-of-type {\n",
       "        vertical-align: middle;\n",
       "    }\n",
       "\n",
       "    .dataframe tbody tr th {\n",
       "        vertical-align: top;\n",
       "    }\n",
       "\n",
       "    .dataframe thead th {\n",
       "        text-align: right;\n",
       "    }\n",
       "</style>\n",
       "<table border=\"1\" class=\"dataframe\">\n",
       "  <thead>\n",
       "    <tr style=\"text-align: right;\">\n",
       "      <th></th>\n",
       "      <th>Actual_value</th>\n",
       "      <th>logistic_pred_seed1</th>\n",
       "      <th>rf_pred_seed1</th>\n",
       "      <th>dnn_pred_seed1</th>\n",
       "    </tr>\n",
       "    <tr>\n",
       "      <th>Drug_ID</th>\n",
       "      <th></th>\n",
       "      <th></th>\n",
       "      <th></th>\n",
       "      <th></th>\n",
       "    </tr>\n",
       "  </thead>\n",
       "  <tbody>\n",
       "    <tr>\n",
       "      <th>lamotrigine</th>\n",
       "      <td>1</td>\n",
       "      <td>0.938323</td>\n",
       "      <td>0.627750</td>\n",
       "      <td>0.879855</td>\n",
       "    </tr>\n",
       "    <tr>\n",
       "      <th>9-C15</th>\n",
       "      <td>1</td>\n",
       "      <td>0.998611</td>\n",
       "      <td>0.787351</td>\n",
       "      <td>0.956551</td>\n",
       "    </tr>\n",
       "    <tr>\n",
       "      <th>erizepine</th>\n",
       "      <td>1</td>\n",
       "      <td>0.999255</td>\n",
       "      <td>0.922308</td>\n",
       "      <td>0.998836</td>\n",
       "    </tr>\n",
       "    <tr>\n",
       "      <th>amperozide</th>\n",
       "      <td>1</td>\n",
       "      <td>0.999732</td>\n",
       "      <td>0.804113</td>\n",
       "      <td>0.988774</td>\n",
       "    </tr>\n",
       "    <tr>\n",
       "      <th>Thioperamide</th>\n",
       "      <td>1</td>\n",
       "      <td>0.940841</td>\n",
       "      <td>0.825243</td>\n",
       "      <td>0.896706</td>\n",
       "    </tr>\n",
       "  </tbody>\n",
       "</table>\n",
       "</div>"
      ],
      "text/plain": [
       "              Actual_value  logistic_pred_seed1  rf_pred_seed1  dnn_pred_seed1\n",
       "Drug_ID                                                                       \n",
       "lamotrigine              1             0.938323       0.627750        0.879855\n",
       "9-C15                    1             0.998611       0.787351        0.956551\n",
       "erizepine                1             0.999255       0.922308        0.998836\n",
       "amperozide               1             0.999732       0.804113        0.988774\n",
       "Thioperamide             1             0.940841       0.825243        0.896706"
      ]
     },
     "execution_count": 6,
     "metadata": {},
     "output_type": "execute_result"
    }
   ],
   "source": [
    "base_learner_preds_val_seed1 = logistic_val_pred_seed1.drop('Predicted_class', axis=1).copy()\n",
    "base_learner_preds_val_seed1.rename(columns={'Predicted_prob': 'logistic_pred_seed1'}, inplace=True)\n",
    "base_learner_preds_val_seed1['rf_pred_seed1'] = rf_val_pred_seed1.Predicted_prob\n",
    "base_learner_preds_val_seed1['dnn_pred_seed1'] = dnn_val_pred_seed1.Predicted_prob\n",
    "\n",
    "# move id column to index\n",
    "base_learner_preds_val_seed1.set_index(list(base_learner_preds_val_seed1.columns[[0]]),inplace=True)\n",
    "base_learner_preds_val_seed1.head()"
   ]
  },
  {
   "cell_type": "code",
   "execution_count": 7,
   "metadata": {},
   "outputs": [
    {
     "data": {
      "image/png": "[encoded data removed]",
      "text/plain": [
       "<Figure size 640x480 with 1 Axes>"
      ]
     },
     "metadata": {},
     "output_type": "display_data"
    }
   ],
   "source": [
    "sns.scatterplot(data=base_learner_preds_val_seed1, x='logistic_pred_seed1', y='rf_pred_seed1', hue='Actual_value')\n",
    "plt.show()"
   ]
  },
  {
   "cell_type": "code",
   "execution_count": 8,
   "metadata": {},
   "outputs": [],
   "source": [
    "def data_prep(df,scale):\n",
    "    # split predictors and targets\n",
    "    X=df.iloc[:,1:]\n",
    "    features = list(X.columns)\n",
    "    y=df.iloc[:,0]\n",
    "    # scale X\n",
    "    if (scale==\"MaxAbsScaler\"):\n",
    "        Xs=MaxAbsScaler().fit_transform(X)\n",
    "    elif (scale==\"StandardScaler\"):\n",
    "        Xs=StandardScaler().fit_transform(X)\n",
    "    elif (scale==\"MinMaxScaler\"):\n",
    "        Xs=MinMaxScaler().fit_transform(X)\n",
    "    elif (scale==\"RowSums\"):\n",
    "        Xs=(X.T / X.T.sum()).T\n",
    "    else:\n",
    "        Xs=X\n",
    "    return Xs,y, features"
   ]
  },
  {
   "cell_type": "code",
   "execution_count": 9,
   "metadata": {},
   "outputs": [],
   "source": [
    "def augment_data(df):\n",
    "    print(\"Before OverSampling, counts of label '0': {}\".format(sum(df.iloc[:,0] == 0)))\n",
    "    print(\"Before OverSampling, counts of label '1': {} \\n\".format(sum(df.iloc[:,0] == 1)))\n",
    "    sm = SVMSMOTE(random_state = 8516)\n",
    "    X_res, y_res = sm.fit_resample(df.iloc[:,1:], df.iloc[:,0].ravel())\n",
    "    y_res = pd.DataFrame(y_res, columns=['target'])\n",
    "    resampled_train_data = pd.DataFrame(pd.concat([y_res, X_res], axis=1))\n",
    "    print(\"After OverSampling, counts of label '0': {}\".format(sum(resampled_train_data.iloc[:,0] == 0)))\n",
    "    print(\"After OverSampling, counts of label '1': {} \\n\".format(sum(resampled_train_data.iloc[:,0] == 1)))\n",
    "    return resampled_train_data"
   ]
  },
  {
   "cell_type": "code",
   "execution_count": 60,
   "metadata": {},
   "outputs": [],
   "source": [
    "def train_logistic(train_df, scale_method):\n",
    "    X_train,y_train, features_train=data_prep(train_df,scale=scale_method)\n",
    "    \n",
    "    from sklearn.metrics import make_scorer\n",
    "    roc_auc_scorer = make_scorer(roc_auc_score, greater_is_better=True,\n",
    "                             needs_threshold=True)\n",
    "    \n",
    "    sss = StratifiedShuffleSplit(n_splits=20, test_size=0.2, random_state=global_seed)\n",
    "\n",
    "    # Perform GridSearchCV to tune best-fit LR model\n",
    "    param = {\n",
    "        #'penalty': ['elasticnet'],\n",
    "        #'penalty': ['l1','l2','elasticnet',None],\n",
    "        'penalty': ['l1','l2','elasticnet'],\n",
    "        'C': np.logspace(-2,0,20),\n",
    "        'class_weight': ['None', 'balanced'], #['None', 'balanced']\n",
    "        'solver': ['saga'],\n",
    "        #'solver': ['saga', 'lbfgs', 'liblinear'],\n",
    "        'l1_ratio': np.logspace(-2,0,20),\n",
    "        #'tol': [1e-1, 1e-2, 1e-3, 1e-4, 1e-5],\n",
    "        'random_state': [global_seed]\n",
    "    }\n",
    "    lr_model = LogisticRegression()\n",
    "    gs_model = GridSearchCV(estimator=lr_model, param_grid=param, cv=sss)\n",
    "    gs_model.fit(X_train, y_train)\n",
    "    print(\"Best Parameters from search: \",gs_model.best_params_)\n",
    "    # Train a LR model with best parameters\n",
    "    lr_model = LogisticRegression(**gs_model.best_params_)\n",
    "    lr_model.fit(X_train, y_train)\n",
    "    print(\"Ensemble Model Intercept: \",lr_model.intercept_)\n",
    "    print(\"Ensemble Feature Weights: \",lr_model.coef_)\n",
    "    print(features_train)\n",
    "    \n",
    "    return lr_model\n",
    "\n",
    "\n"
   ]
  },
  {
   "cell_type": "code",
   "execution_count": 61,
   "metadata": {},
   "outputs": [],
   "source": [
    "# Function to make predictions \n",
    "\n",
    "def logistic_predict(trained_model, df, scale_method):\n",
    "    #split features and targets for modeling\n",
    "    X_test,y_test, features_test=data_prep(df,scale=scale_method)\n",
    "    model_prediction_prob = trained_model.predict_proba(X_test)\n",
    "    model_prediction_prob = model_prediction_prob[:,1]\n",
    "    model_prediction_class = [1 if pred > 0.5 else 0 for pred in model_prediction_prob]\n",
    "    return model_prediction_prob, model_prediction_class"
   ]
  },
  {
   "cell_type": "code",
   "execution_count": 62,
   "metadata": {},
   "outputs": [
    {
     "name": "stdout",
     "output_type": "stream",
     "text": [
      "Before OverSampling, counts of label '0': 60\n",
      "Before OverSampling, counts of label '1': 143 \n",
      "\n",
      "After OverSampling, counts of label '0': 143\n",
      "After OverSampling, counts of label '1': 143 \n",
      "\n"
     ]
    },
    {
     "data": {
      "text/html": [
       "<div>\n",
       "<style scoped>\n",
       "    .dataframe tbody tr th:only-of-type {\n",
       "        vertical-align: middle;\n",
       "    }\n",
       "\n",
       "    .dataframe tbody tr th {\n",
       "        vertical-align: top;\n",
       "    }\n",
       "\n",
       "    .dataframe thead th {\n",
       "        text-align: right;\n",
       "    }\n",
       "</style>\n",
       "<table border=\"1\" class=\"dataframe\">\n",
       "  <thead>\n",
       "    <tr style=\"text-align: right;\">\n",
       "      <th></th>\n",
       "      <th>target</th>\n",
       "      <th>logistic_pred_seed1</th>\n",
       "      <th>rf_pred_seed1</th>\n",
       "      <th>dnn_pred_seed1</th>\n",
       "    </tr>\n",
       "  </thead>\n",
       "  <tbody>\n",
       "    <tr>\n",
       "      <th>0</th>\n",
       "      <td>1</td>\n",
       "      <td>0.938323</td>\n",
       "      <td>0.627750</td>\n",
       "      <td>0.879855</td>\n",
       "    </tr>\n",
       "    <tr>\n",
       "      <th>1</th>\n",
       "      <td>1</td>\n",
       "      <td>0.998611</td>\n",
       "      <td>0.787351</td>\n",
       "      <td>0.956551</td>\n",
       "    </tr>\n",
       "    <tr>\n",
       "      <th>2</th>\n",
       "      <td>1</td>\n",
       "      <td>0.999255</td>\n",
       "      <td>0.922308</td>\n",
       "      <td>0.998836</td>\n",
       "    </tr>\n",
       "    <tr>\n",
       "      <th>3</th>\n",
       "      <td>1</td>\n",
       "      <td>0.999732</td>\n",
       "      <td>0.804113</td>\n",
       "      <td>0.988774</td>\n",
       "    </tr>\n",
       "    <tr>\n",
       "      <th>4</th>\n",
       "      <td>1</td>\n",
       "      <td>0.940841</td>\n",
       "      <td>0.825243</td>\n",
       "      <td>0.896706</td>\n",
       "    </tr>\n",
       "  </tbody>\n",
       "</table>\n",
       "</div>"
      ],
      "text/plain": [
       "   target  logistic_pred_seed1  rf_pred_seed1  dnn_pred_seed1\n",
       "0       1             0.938323       0.627750        0.879855\n",
       "1       1             0.998611       0.787351        0.956551\n",
       "2       1             0.999255       0.922308        0.998836\n",
       "3       1             0.999732       0.804113        0.988774\n",
       "4       1             0.940841       0.825243        0.896706"
      ]
     },
     "execution_count": 62,
     "metadata": {},
     "output_type": "execute_result"
    }
   ],
   "source": [
    "augment_data(base_learner_preds_val_seed1).head()"
   ]
  },
  {
   "cell_type": "code",
   "execution_count": 63,
   "metadata": {},
   "outputs": [
    {
     "name": "stdout",
     "output_type": "stream",
     "text": [
      "Best Parameters from search:  {'C': 0.29763514416313175, 'class_weight': 'balanced', 'l1_ratio': 0.7847599703514611, 'penalty': 'elasticnet', 'random_state': 8516, 'solver': 'saga'}\n",
      "Ensemble Model Intercept:  [-3.24008055]\n",
      "Ensemble Feature Weights:  [[2.6120105  0.09623141 2.74784715]]\n",
      "['logistic_pred_seed1', 'rf_pred_seed1', 'dnn_pred_seed1']\n"
     ]
    }
   ],
   "source": [
    "ensemble_model1 = train_logistic(base_learner_preds_val_seed1, \"None\")"
   ]
  },
  {
   "cell_type": "code",
   "execution_count": 64,
   "metadata": {},
   "outputs": [],
   "source": [
    "#Make predictions on the validation set\n",
    "val_predicted_prob, val_predicted_class = logistic_predict(ensemble_model1, base_learner_preds_val_seed1, \"None\")"
   ]
  },
  {
   "cell_type": "code",
   "execution_count": 65,
   "metadata": {},
   "outputs": [
    {
     "name": "stdout",
     "output_type": "stream",
     "text": [
      "\n",
      " Val Logistic AUC seed 1:  0.957983682983683 \n",
      "\n",
      "\n",
      " Val RF AUC seed 1:  0.9527389277389278 \n",
      "\n",
      "\n",
      " Val Ensemble AUC seed 1:  0.9751165501165502 \n",
      "\n"
     ]
    }
   ],
   "source": [
    "val_logistic_auc = roc_auc_score(base_learner_preds_val_seed1['Actual_value'], base_learner_preds_val_seed1['logistic_pred_seed1'], average='weighted')\n",
    "print(\"\\n Val Logistic AUC seed 1: \",val_logistic_auc, \"\\n\")\n",
    "val_rf_auc = roc_auc_score(base_learner_preds_val_seed1['Actual_value'], base_learner_preds_val_seed1['rf_pred_seed1'], average='weighted')\n",
    "print(\"\\n Val RF AUC seed 1: \",val_rf_auc, \"\\n\")\n",
    "val_ensemble_auc = roc_auc_score(base_learner_preds_val_seed1['Actual_value'], val_predicted_prob, average='weighted')\n",
    "print(\"\\n Val Ensemble AUC seed 1: \",val_ensemble_auc, \"\\n\")"
   ]
  },
  {
   "cell_type": "code",
   "execution_count": 66,
   "metadata": {},
   "outputs": [
    {
     "data": {
      "text/html": [
       "<div>\n",
       "<style scoped>\n",
       "    .dataframe tbody tr th:only-of-type {\n",
       "        vertical-align: middle;\n",
       "    }\n",
       "\n",
       "    .dataframe tbody tr th {\n",
       "        vertical-align: top;\n",
       "    }\n",
       "\n",
       "    .dataframe thead th {\n",
       "        text-align: right;\n",
       "    }\n",
       "</style>\n",
       "<table border=\"1\" class=\"dataframe\">\n",
       "  <thead>\n",
       "    <tr style=\"text-align: right;\">\n",
       "      <th></th>\n",
       "      <th>Actual_value</th>\n",
       "      <th>logistic_pred_seed1</th>\n",
       "      <th>rf_pred_seed1</th>\n",
       "      <th>dnn_pred_seed1</th>\n",
       "    </tr>\n",
       "    <tr>\n",
       "      <th>Drug_ID</th>\n",
       "      <th></th>\n",
       "      <th></th>\n",
       "      <th></th>\n",
       "      <th></th>\n",
       "    </tr>\n",
       "  </thead>\n",
       "  <tbody>\n",
       "    <tr>\n",
       "      <th>tetrazepam</th>\n",
       "      <td>1</td>\n",
       "      <td>0.999720</td>\n",
       "      <td>0.966064</td>\n",
       "      <td>0.998740</td>\n",
       "    </tr>\n",
       "    <tr>\n",
       "      <th>menitrazepam</th>\n",
       "      <td>1</td>\n",
       "      <td>0.996647</td>\n",
       "      <td>0.903289</td>\n",
       "      <td>0.989069</td>\n",
       "    </tr>\n",
       "    <tr>\n",
       "      <th>nortetrazepam</th>\n",
       "      <td>1</td>\n",
       "      <td>0.999095</td>\n",
       "      <td>0.936800</td>\n",
       "      <td>0.997423</td>\n",
       "    </tr>\n",
       "    <tr>\n",
       "      <th>Oxacillin</th>\n",
       "      <td>0</td>\n",
       "      <td>0.149347</td>\n",
       "      <td>0.087454</td>\n",
       "      <td>0.027071</td>\n",
       "    </tr>\n",
       "    <tr>\n",
       "      <th>Flucloxacillin</th>\n",
       "      <td>0</td>\n",
       "      <td>0.102568</td>\n",
       "      <td>0.189799</td>\n",
       "      <td>0.030793</td>\n",
       "    </tr>\n",
       "  </tbody>\n",
       "</table>\n",
       "</div>"
      ],
      "text/plain": [
       "                Actual_value  logistic_pred_seed1  rf_pred_seed1  \\\n",
       "Drug_ID                                                            \n",
       "tetrazepam                 1             0.999720       0.966064   \n",
       "menitrazepam               1             0.996647       0.903289   \n",
       "nortetrazepam              1             0.999095       0.936800   \n",
       "Oxacillin                  0             0.149347       0.087454   \n",
       "Flucloxacillin             0             0.102568       0.189799   \n",
       "\n",
       "                dnn_pred_seed1  \n",
       "Drug_ID                         \n",
       "tetrazepam            0.998740  \n",
       "menitrazepam          0.989069  \n",
       "nortetrazepam         0.997423  \n",
       "Oxacillin             0.027071  \n",
       "Flucloxacillin        0.030793  "
      ]
     },
     "execution_count": 66,
     "metadata": {},
     "output_type": "execute_result"
    }
   ],
   "source": [
    "#Load seed1 test set predictions\n",
    "logistic_test_pred_seed1 = pd.read_csv(\"/data/tdc_bbb_prelim_results1/logistic_fe_aug/test_predictions/test_predictions_seed1.tsv\", sep=\"\\t\")\n",
    "rf_test_pred_seed1 = pd.read_csv(\"/data/tdc_bbb_prelim_results1/rf_fe_aug/test_predictions/test_predictions_seed1.tsv\", sep=\"\\t\")\n",
    "dnn_test_pred_seed1 = pd.read_csv(\"/data/tdc_bbb_prelim_results11/dnn_fe_aug/test_predictions/test_predictions_seed1.tsv\", sep=\"\\t\")\n",
    "\n",
    "\n",
    "base_learner_preds_test_seed1 = logistic_test_pred_seed1.drop('Predicted_class', axis=1).copy()\n",
    "base_learner_preds_test_seed1.rename(columns={'Predicted_prob': 'logistic_pred_seed1'}, inplace=True)\n",
    "base_learner_preds_test_seed1['rf_pred_seed1'] = rf_test_pred_seed1.Predicted_prob\n",
    "base_learner_preds_test_seed1['dnn_pred_seed1'] = dnn_test_pred_seed1.Predicted_prob\n",
    "\n",
    "# move id column to index\n",
    "base_learner_preds_test_seed1.set_index(list(base_learner_preds_test_seed1.columns[[0]]),inplace=True)\n",
    "base_learner_preds_test_seed1.head()"
   ]
  },
  {
   "cell_type": "code",
   "execution_count": 67,
   "metadata": {},
   "outputs": [
    {
     "name": "stdout",
     "output_type": "stream",
     "text": [
      "\n",
      " Test Logistic AUC seed 1:  0.9613430268918073 \n",
      "\n",
      "\n",
      " Test RF AUC seed 1:  0.9267120075046905 \n",
      "\n",
      "\n",
      " Test Ensemble AUC seed 1:  0.9629455909943714 \n",
      "\n"
     ]
    }
   ],
   "source": [
    "#Make predictions on the test set\n",
    "test_predicted_prob, test_predicted_class = logistic_predict(ensemble_model1, base_learner_preds_test_seed1, \"None\")\n",
    "\n",
    "test_logistic_auc = roc_auc_score(base_learner_preds_test_seed1['Actual_value'], base_learner_preds_test_seed1['logistic_pred_seed1'], average='weighted')\n",
    "print(\"\\n Test Logistic AUC seed 1: \",test_logistic_auc, \"\\n\")\n",
    "test_rf_auc = roc_auc_score(base_learner_preds_test_seed1['Actual_value'], base_learner_preds_test_seed1['rf_pred_seed1'], average='weighted')\n",
    "print(\"\\n Test RF AUC seed 1: \",test_rf_auc, \"\\n\")\n",
    "test_ensemble_auc = roc_auc_score(base_learner_preds_test_seed1['Actual_value'], test_predicted_prob, average='weighted')\n",
    "print(\"\\n Test Ensemble AUC seed 1: \",test_ensemble_auc, \"\\n\")"
   ]
  },
  {
   "cell_type": "code",
   "execution_count": 68,
   "metadata": {},
   "outputs": [
    {
     "name": "stdout",
     "output_type": "stream",
     "text": [
      "[[2.6120105  0.09623141 2.74784715]]\n",
      "[-3.24008055]\n"
     ]
    }
   ],
   "source": [
    "print(ensemble_model1.coef_)\n",
    "print(ensemble_model1.intercept_)"
   ]
  },
  {
   "cell_type": "code",
   "execution_count": 69,
   "metadata": {},
   "outputs": [
    {
     "name": "stderr",
     "output_type": "stream",
     "text": [
      "Found local copy...\n"
     ]
    },
    {
     "name": "stdout",
     "output_type": "stream",
     "text": [
      "Best Parameters from search:  {'C': 0.0545559478116852, 'class_weight': 'balanced', 'l1_ratio': 0.01, 'penalty': 'l2', 'random_state': 8516, 'solver': 'saga'}\n",
      "Ensemble Model Intercept:  [-1.228587]\n",
      "Ensemble Feature Weights:  [[1.11468185 1.08187495]]\n",
      "['logistic_pred', 'dnn_pred']\n",
      "\n",
      " Test AUC seed 1:  0.9632582864290181 \n",
      "\n",
      "Best Parameters from search:  {'C': 0.37926901907322497, 'class_weight': 'balanced', 'l1_ratio': 0.7847599703514611, 'penalty': 'elasticnet', 'random_state': 8516, 'solver': 'saga'}\n",
      "Ensemble Model Intercept:  [-2.80279839]\n",
      "Ensemble Feature Weights:  [[1.8479314  3.29722384]]\n",
      "['logistic_pred', 'dnn_pred']\n",
      "\n",
      " Test AUC seed 2:  0.9598186366479049 \n",
      "\n",
      "Best Parameters from search:  {'C': 0.01, 'class_weight': 'balanced', 'l1_ratio': 0.01, 'penalty': 'l2', 'random_state': 8516, 'solver': 'saga'}\n",
      "Ensemble Model Intercept:  [-0.33643009]\n",
      "Ensemble Feature Weights:  [[0.31695262 0.32505186]]\n",
      "['logistic_pred', 'dnn_pred']\n",
      "\n",
      " Test AUC seed 3:  0.9611866791744841 \n",
      "\n",
      "Best Parameters from search:  {'C': 0.23357214690901212, 'class_weight': 'balanced', 'l1_ratio': 0.01, 'penalty': 'l2', 'random_state': 8516, 'solver': 'saga'}\n",
      "Ensemble Model Intercept:  [-2.23784493]\n",
      "Ensemble Feature Weights:  [[1.89921074 1.79963995]]\n",
      "['logistic_pred', 'dnn_pred']\n",
      "\n",
      " Test AUC seed 4:  0.9564962476547842 \n",
      "\n",
      "Best Parameters from search:  {'C': 0.7847599703514611, 'class_weight': 'balanced', 'l1_ratio': 0.7847599703514611, 'penalty': 'elasticnet', 'random_state': 8516, 'solver': 'saga'}\n",
      "Ensemble Model Intercept:  [-3.97863147]\n",
      "Ensemble Feature Weights:  [[3.67783358 2.93103336]]\n",
      "['logistic_pred', 'dnn_pred']\n",
      "\n",
      " Test AUC seed 5:  0.9662679799874921 \n",
      "\n",
      "5\n",
      "{'bbb_martins': [0.961, 0.003]}\n"
     ]
    }
   ],
   "source": [
    "### Get the TDC train and test split Drug_IDs to split similarly\n",
    "group = admet_group(path = 'data/')\n",
    "predictions_list = []\n",
    "\n",
    "### use the code provided in the TDC website\n",
    "#### https://tdcommons.ai/benchmark/overview/\n",
    "\n",
    "for seed in [1, 2, 3, 4, 5]:\n",
    "    #benchmark = group.get('BBB_Martins')\n",
    "    #name = benchmark['name']\n",
    "\n",
    "    #Load validation set base learner predictions to train ensemble model\n",
    "    logistic_val_pred = pd.read_csv(\"/data/tdc_bbb_prelim_results11/logistic_fe_aug/val_predictions/val_predictions_seed{}.tsv\".format(seed), sep=\"\\t\")\n",
    "    #rf_val_pred = pd.read_csv(\"/data/tdc_bbb_prelim_results11/rf_fe_aug/val_predictions/val_predictions_seed{}.tsv\".format(seed), sep=\"\\t\")\n",
    "    dnn_val_pred = pd.read_csv(\"/data/tdc_bbb_prelim_results11/dnn_fe_aug/val_predictions/val_predictions_seed{}.tsv\".format(seed), sep=\"\\t\")\n",
    "    base_learner_preds_val = logistic_val_pred.drop('Predicted_class', axis=1).copy()\n",
    "    base_learner_preds_val.rename(columns={'Predicted_prob': 'logistic_pred'}, inplace=True)\n",
    "    #base_learner_preds_val['rf_pred'] = rf_val_pred.Predicted_prob\n",
    "    base_learner_preds_val['dnn_pred'] = dnn_val_pred.Predicted_prob\n",
    "    base_learner_preds_val.set_index(list(base_learner_preds_val.columns[[0]]),inplace=True)\n",
    "        \n",
    "    #Load test set base learner predictions as inputs to the ensemble model\n",
    "    logistic_test_pred = pd.read_csv(\"/data/tdc_bbb_prelim_results11/logistic_fe_aug/test_predictions/test_predictions_seed{}.tsv\".format(seed), sep=\"\\t\")\n",
    "    #rf_test_pred = pd.read_csv(\"/data/tdc_bbb_prelim_results11/rf_fe_aug/test_predictions/test_predictions_seed{}.tsv\".format(seed), sep=\"\\t\")\n",
    "    dnn_test_pred = pd.read_csv(\"/data/tdc_bbb_prelim_results11/dnn_fe_aug/test_predictions/test_predictions_seed{}.tsv\".format(seed), sep=\"\\t\")\n",
    "    base_learner_preds_test = logistic_test_pred.drop('Predicted_class', axis=1).copy()\n",
    "    base_learner_preds_test.rename(columns={'Predicted_prob': 'logistic_pred'}, inplace=True)\n",
    "    #base_learner_preds_test['rf_pred'] = rf_test_pred.Predicted_prob\n",
    "    base_learner_preds_test['dnn_pred'] = dnn_test_pred.Predicted_prob\n",
    "    base_learner_preds_test.set_index(list(base_learner_preds_test.columns[[0]]),inplace=True)\n",
    "    \n",
    "    #Train the ensemble model with validation set base learner predicted probabilities\n",
    "    ensemble_model = train_logistic(base_learner_preds_val, \"None\")\n",
    "\n",
    "    #Make predictions on the test set\n",
    "    predictions = {}\n",
    "    #name = benchmark['name']\n",
    "    name = 'BBB_Martins'\n",
    "    predicted_prob, predicted_class = logistic_predict(ensemble_model, base_learner_preds_test, \"None\")\n",
    "    predictions[name] = predicted_prob\n",
    "\n",
    "    predictions_list.append(predictions)\n",
    "    \n",
    "    # write output files\n",
    "    # write the above dataframe as .tsv file to use for feature selection\n",
    "    #test_predictions_df = pd.DataFrame({'Drug_ID':full_test_data_ml.index.values, 'Actual_value':full_test_data_ml.target, 'Predicted_prob':predicted_prob, 'Predicted_class':predicted_class})\n",
    "    #test_predictions_df.to_csv(\"../results/{}/test_predictions/test_predictions_seed{}.tsv\".format(method_name, seed), sep=\"\\t\", index=0)\n",
    "\n",
    "    #Make predictions on the validation set\n",
    "    #val_predicted_prob, val_predicted_class = logistic_predict(trained_model, full_valid_data_ml[['target'] + logistic_features_selected], \"None\")\n",
    "    # write the above dataframe as .tsv file \n",
    "    #val_predictions_df = pd.DataFrame({'Drug_ID':full_valid_data_ml.index.values, 'Actual_value':full_valid_data_ml.target, 'Predicted_prob':val_predicted_prob, 'Predicted_class':val_predicted_class})\n",
    "    #val_predictions_df.to_csv(\"../results/{}/val_predictions/val_predictions_seed{}.tsv\".format(method_name,seed), sep=\"\\t\", index=0)\n",
    "\n",
    "    test_auc = roc_auc_score(base_learner_preds_test['Actual_value'], predicted_prob, average='weighted')\n",
    "    print(\"\\n Test AUC seed {}: \".format(seed),test_auc, \"\\n\")\n",
    "    \n",
    "print(len(predictions_list))\n",
    "results = group.evaluate_many(predictions_list)\n",
    "print(results)"
   ]
  },
  {
   "cell_type": "markdown",
   "metadata": {},
   "source": [
    "Logistic / DNN Base Learner results for comparison\n",
    " Test AUC seed 1:  0.9613430268918073 / 0.9482489055659787\n",
    " Test AUC seed 2:  0.9562617260787991 / 0.9422881488430268\n",
    " Test AUC seed 3:  0.9541119449656035 / 0.9508286429018137\n",
    " Test AUC seed 4:  0.9473499061913696 / 0.949851469668543\n",
    " Test AUC seed 5:  0.9627892432770482 / 0.9420731707317074\n",
    "{'bbb_martins': [0.956, 0.006]} / 'bbb_martins': [0.947, 0.004]\n"
   ]
  },
  {
   "cell_type": "code",
   "execution_count": null,
   "metadata": {},
   "outputs": [],
   "source": []
  }
 ],
 "metadata": {
  "kernelspec": {
   "display_name": "Python 3",
   "language": "python",
   "name": "python3"
  },
  "language_info": {
   "codemirror_mode": {
    "name": "ipython",
    "version": 3
   },
   "file_extension": ".py",
   "mimetype": "text/x-python",
   "name": "python",
   "nbconvert_exporter": "python",
   "pygments_lexer": "ipython3",
   "version": "3.9.12"
  }
 },
 "nbformat": 4,
 "nbformat_minor": 4
}
